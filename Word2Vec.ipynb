{
 "cells": [
  {
   "cell_type": "code",
   "execution_count": 4,
   "id": "08d73b93",
   "metadata": {},
   "outputs": [],
   "source": [
    "# https://www.kaggle.com/rootuser/worldnews-on-reddit/code\n",
    "# https://drive.google.com/file/d/0B7XkCwpI5KDYNlNUTTlSS21pQmM/edit?resourcekey=0-wjGZdNAUop6WykTtMip30g\n",
    "from gensim.models import Word2Vec, KeyedVectors\n",
    "import pandas as pd\n",
    "import nltk"
   ]
  },
  {
   "cell_type": "code",
   "execution_count": null,
   "id": "09061c67",
   "metadata": {},
   "outputs": [],
   "source": [
    "df = pd.read_csv('reddit_worldnews.csv')"
   ]
  },
  {
   "cell_type": "code",
   "execution_count": null,
   "id": "49518ae3",
   "metadata": {},
   "outputs": [],
   "source": [
    "df.head(5)"
   ]
  },
  {
   "cell_type": "code",
   "execution_count": null,
   "id": "2ccf6f98",
   "metadata": {},
   "outputs": [],
   "source": [
    "newsTitles = df['title'].values"
   ]
  },
  {
   "cell_type": "code",
   "execution_count": null,
   "id": "d03716f1",
   "metadata": {},
   "outputs": [],
   "source": [
    "newsTitles"
   ]
  },
  {
   "cell_type": "code",
   "execution_count": null,
   "id": "2d48afd2",
   "metadata": {},
   "outputs": [],
   "source": [
    "#nltk.download('punkt')"
   ]
  },
  {
   "cell_type": "code",
   "execution_count": null,
   "id": "905784b8",
   "metadata": {},
   "outputs": [],
   "source": [
    "newsVec = [nltk.word_tokenize(title) for title in newsTitles]"
   ]
  },
  {
   "cell_type": "code",
   "execution_count": null,
   "id": "f1beb1ef",
   "metadata": {},
   "outputs": [],
   "source": [
    "newsVec"
   ]
  },
  {
   "cell_type": "code",
   "execution_count": null,
   "id": "bfafcec9",
   "metadata": {},
   "outputs": [],
   "source": [
    "model = Word2Vec(newsVec, min_count=1)"
   ]
  },
  {
   "cell_type": "code",
   "execution_count": null,
   "id": "a1af906a",
   "metadata": {},
   "outputs": [],
   "source": [
    "similars = model.wv.most_similar('man')\n",
    "print(similars)"
   ]
  },
  {
   "cell_type": "code",
   "execution_count": null,
   "id": "83265dc1",
   "metadata": {},
   "outputs": [],
   "source": [
    "vec = model.wv['King']-model.wv['man']+model.wv['woman']\n",
    "model.wv.most_similar([vec])"
   ]
  },
  {
   "cell_type": "markdown",
   "id": "c388bb84",
   "metadata": {},
   "source": [
    "# using google's trained model - gensim"
   ]
  },
  {
   "cell_type": "code",
   "execution_count": 5,
   "id": "917c1632",
   "metadata": {},
   "outputs": [],
   "source": [
    "model = KeyedVectors.load_word2vec_format('GoogleNews-vectors-negative300.bin', binary=True, limit=100000)"
   ]
  },
  {
   "cell_type": "code",
   "execution_count": 7,
   "id": "ea5677e0",
   "metadata": {},
   "outputs": [
    {
     "data": {
      "text/plain": [
       "[('woman', 0.7664012908935547),\n",
       " ('boy', 0.6824871301651001),\n",
       " ('teenager', 0.6586930155754089),\n",
       " ('teenage_girl', 0.6147903203964233),\n",
       " ('girl', 0.5921714305877686),\n",
       " ('robber', 0.5585119128227234),\n",
       " ('teen_ager', 0.5549196600914001),\n",
       " ('men', 0.5489763021469116),\n",
       " ('guy', 0.5420035123825073),\n",
       " ('person', 0.5342026352882385)]"
      ]
     },
     "execution_count": 7,
     "metadata": {},
     "output_type": "execute_result"
    }
   ],
   "source": [
    "model.most_similar('man')"
   ]
  },
  {
   "cell_type": "code",
   "execution_count": 12,
   "id": "a1609f05",
   "metadata": {},
   "outputs": [],
   "source": [
    "vec = model['King']-model['man']+model['woman']"
   ]
  },
  {
   "cell_type": "code",
   "execution_count": 13,
   "id": "578cae38",
   "metadata": {},
   "outputs": [
    {
     "data": {
      "text/plain": [
       "[('King', 0.7780153751373291),\n",
       " ('Queen', 0.55495285987854),\n",
       " ('Princess', 0.464548259973526),\n",
       " ('queen', 0.4479384422302246),\n",
       " ('Queen_Elizabeth', 0.4418003261089325),\n",
       " ('monarch', 0.43155860900878906),\n",
       " ('Empress', 0.42811447381973267),\n",
       " ('princess', 0.42595720291137695),\n",
       " ('Greene', 0.39877602458000183),\n",
       " ('Spalding', 0.39462387561798096)]"
      ]
     },
     "execution_count": 13,
     "metadata": {},
     "output_type": "execute_result"
    }
   ],
   "source": [
    "model.most_similar([vec])"
   ]
  },
  {
   "cell_type": "code",
   "execution_count": 22,
   "id": "63a8e7ca",
   "metadata": {},
   "outputs": [
    {
     "data": {
      "text/plain": [
       "[('Cairo', 0.7906919121742249),\n",
       " ('Egypt', 0.6005313992500305),\n",
       " ('Tunis', 0.549670934677124),\n",
       " ('Cairo_Egypt', 0.5450116991996765),\n",
       " ('Amman', 0.5231460332870483),\n",
       " ('Beirut', 0.5195030570030212),\n",
       " ('Damascus', 0.48988279700279236),\n",
       " ('Tahrir_Square', 0.4823935627937317),\n",
       " ('Egyptians', 0.4793627858161926),\n",
       " ('Middle_East', 0.46612927317619324)]"
      ]
     },
     "execution_count": 22,
     "metadata": {},
     "output_type": "execute_result"
    }
   ],
   "source": [
    "vec2 = model['Canada']-model['Ontario']+model['Cairo']\n",
    "model.most_similar([vec2])"
   ]
  },
  {
   "cell_type": "code",
   "execution_count": 25,
   "id": "d62446d9",
   "metadata": {},
   "outputs": [
    {
     "data": {
      "text/plain": [
       "[('Air', 0.6145884394645691),\n",
       " ('Dragon', 0.5200332403182983),\n",
       " ('Jet', 0.4154438078403473),\n",
       " ('Hawk', 0.3885643184185028),\n",
       " ('Arrow', 0.3807510733604431),\n",
       " ('Singapore_Airlines', 0.3759206533432007),\n",
       " ('Virgin_Blue', 0.3727664053440094),\n",
       " ('Cathay_Pacific', 0.3650554418563843),\n",
       " ('Airlines', 0.35921621322631836),\n",
       " ('airline', 0.35299861431121826)]"
      ]
     },
     "execution_count": 25,
     "metadata": {},
     "output_type": "execute_result"
    }
   ],
   "source": [
    "vec3 = model['Dragon']-model['Fire']+model['Air']\n",
    "model.most_similar([vec3])"
   ]
  }
 ],
 "metadata": {
  "kernelspec": {
   "display_name": "Python 3 (ipykernel)",
   "language": "python",
   "name": "python3"
  },
  "language_info": {
   "codemirror_mode": {
    "name": "ipython",
    "version": 3
   },
   "file_extension": ".py",
   "mimetype": "text/x-python",
   "name": "python",
   "nbconvert_exporter": "python",
   "pygments_lexer": "ipython3",
   "version": "3.8.10"
  }
 },
 "nbformat": 4,
 "nbformat_minor": 5
}
